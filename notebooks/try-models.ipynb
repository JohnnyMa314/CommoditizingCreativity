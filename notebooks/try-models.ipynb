{
 "cells": [
  {
   "cell_type": "code",
   "execution_count": 217,
   "metadata": {},
   "outputs": [],
   "source": [
    "import sklearn\n",
    "\n",
    "import gensim\n",
    "import pickle\n",
    "\n",
    "with open(r'data/features/w2v_package_1084.pkl', 'rb') as f:\n",
    "    w2v = pickle.load(f)\n",
    "    \n",
    "with open(r'data/features/ner_package_1084.pkl', 'rb') as f:\n",
    "    ner = pickle.load(f)"
   ]
  },
  {
   "cell_type": "code",
   "execution_count": 154,
   "metadata": {},
   "outputs": [],
   "source": [
    "import pickle\n",
    "from collections import Counter\n",
    "import matplotlib.pyplot as plt\n",
    "import sys\n",
    "import numpy as np\n",
    "import pandas as pd\n",
    "from sklearn.ensemble import GradientBoostingClassifier\n",
    "from sklearn.linear_model import LogisticRegression\n",
    "from sklearn.metrics import plot_roc_curve, accuracy_score, f1_score\n",
    "from sklearn.model_selection import train_test_split\n",
    "from sklearn.model_selection import GridSearchCV\n",
    "from sklearn.svm import SVC\n",
    "from scipy.sparse import hstack\n",
    "from sklearn.metrics import classification_report\n",
    "from sklearn import preprocessing\n",
    "from ScriptFeaturizer import scripts_to_tfidf\n",
    "from FeatureUtils import tokenize_script\n",
    "import warnings\n",
    "import matplotlib.patches as mpatches\n",
    "\n",
    "def run_classification_models(features, budget_cats):\n",
    "    # making test train splits\n",
    "    X_train, X_test, y_train, y_test = train_test_split(features, budget_cats, test_size=0.2, random_state=0)\n",
    "\n",
    "    # The Naive Bayes are bad, so I remove\n",
    "    classifiers = [\n",
    "        (LogisticRegression(random_state=0, max_iter = 1000), {\n",
    "            'C': np.logspace(-2, 7, 10)\n",
    "        }),\n",
    "        (GradientBoostingClassifier(n_estimators=50, random_state=0), {\n",
    "            'learning_rate': np.logspace(-4, 0, 10)\n",
    "        }),\n",
    "        (SVC(random_state=0), {\n",
    "            'C': np.logspace(-2, 7, 10)\n",
    "        })]\n",
    "\n",
    "    for classifier, parameters in classifiers:\n",
    "        print(classifier)\n",
    "\n",
    "        clf = GridSearchCV(classifier, parameters, cv = 3)\n",
    "        clf.fit(X_train, y_train)\n",
    "\n",
    "        print(\"Best parameters set found on development set:\")\n",
    "        print()\n",
    "        print(clf.best_params_)\n",
    "        print()\n",
    "        print(\"Grid scores on development set:\")\n",
    "        print()\n",
    "        means = clf.cv_results_['mean_test_score']\n",
    "        stds = clf.cv_results_['std_test_score']\n",
    "        for mean, std, params in zip(means, stds, clf.cv_results_['params']):\n",
    "            print(\"%0.3f (+/-%0.03f) for %r\"\n",
    "                  % (mean, std * 2, params))\n",
    "        print()\n",
    "\n",
    "        print(\"Detailed classification report:\")\n",
    "        y_true, y_pred = y_test, clf.predict(X_test)\n",
    "\n",
    "        print(\"Accuracy Score: \\n\")\n",
    "        print(accuracy_score(y_test, y_pred))\n",
    "\n",
    "        print(\"F1 Score: \\n\")\n",
    "        print(f1_score(y_true, y_pred, average = 'macro'))\n",
    "        print(classification_report(y_true, y_pred))\n",
    "\n",
    "        disp = plot_roc_curve(clf, X_test, y_test)\n",
    "        plt.show()\n"
   ]
  },
  {
   "cell_type": "code",
   "execution_count": 63,
   "metadata": {},
   "outputs": [
    {
     "name": "stderr",
     "output_type": "stream",
     "text": [
      "/Users/johnnyma/opt/anaconda3/lib/python3.7/site-packages/sklearn/feature_extraction/text.py:386: UserWarning: Your stop_words may be inconsistent with your preprocessing. Tokenizing the stop words generated tokens ['cut', 'fade', 'll', 'scene', 've'] not in stop_words.\n",
      "  'stop_words.' % sorted(inconsistent))\n"
     ]
    }
   ],
   "source": [
    "from ScriptFeaturizer import scripts_to_tfidf, num_lines\n",
    "from FeatureUtils import load_scripts\n",
    "raw_scripts, titles = load_scripts(r'data/IMSDB/texts/')\n",
    "titles = [title.replace(':', '_').replace('\\\\', '_').rstrip('_') for title in titles]\n",
    "X_tfidf_sparse, vocab = scripts_to_tfidf(raw_scripts)"
   ]
  },
  {
   "cell_type": "code",
   "execution_count": 106,
   "metadata": {},
   "outputs": [
    {
     "data": {
      "text/plain": [
       "((1084, 4525), (1084, 300), (1084, 18))"
      ]
     },
     "execution_count": 106,
     "metadata": {},
     "output_type": "execute_result"
    }
   ],
   "source": [
    "from sklearn.preprocessing import StandardScaler\n",
    "scaler = StandardScaler()\n",
    "X_tfidf = scaler.fit_transform(X_tfidf_sparse.toarray())\n",
    "X_w2v = scaler.fit_transform(w2v[0])\n",
    "X_ner = scaler.fit_transform(ner[0])\n",
    "X_tfidf.shape, X_w2v.shape, X_ner.shape"
   ]
  },
  {
   "cell_type": "code",
   "execution_count": 107,
   "metadata": {},
   "outputs": [],
   "source": [
    "from sklearn.linear_model import LogisticRegression\n",
    "from sklearn.model_selection import train_test_split"
   ]
  },
  {
   "cell_type": "code",
   "execution_count": 108,
   "metadata": {},
   "outputs": [
    {
     "name": "stdout",
     "output_type": "stream",
     "text": [
      "['Hellboy', 'Hellboy_2__The_Golden_Army', 'Hellraiser', 'Hellraiser__Deader', 'Hellraiser_3__Hell_on_Earth', 'Help', \"Henry's_Crime\", 'Her', 'Hesher', 'High_Fidelity', 'Highlander', 'Highlander__Endgame', 'Hills_Have_Eyes', 'Hitchcock', \"Hitchhiker's_Guide_to_the_Galaxy\", 'Hollow_Man', 'Honeydripper', 'Horrible_Bosses', 'Horse_Whisperer', 'Hospital', 'Hostage', 'Hot_Tub_Time_Machine', 'Hotel_Rwanda', 'House_of_1000_Corpses', 'How_to_Lose_Friends_&_Alienate_People', 'How_to_Train_Your_Dragon', 'How_to_Train_Your_Dragon_2', 'Hudson_Hawk', 'Hudsucker_Proxy', 'Human_Nature']\n"
     ]
    }
   ],
   "source": [
    "import pandas as pd \n",
    "\n",
    "budgets = pd.read_csv(r'data/IMSDB/final_movie_budgets.csv')\n",
    "budgets[['Movie-Title', 'Budget']].head(20)\n",
    "print(titles[470:500])"
   ]
  },
  {
   "cell_type": "code",
   "execution_count": 109,
   "metadata": {},
   "outputs": [],
   "source": [
    "X_ner_pd = pd.DataFrame(X_ner, index=titles)\n",
    "X_w2v_pd = pd.DataFrame(X_w2v, index=titles)\n",
    "X_tfidf_pd = pd.DataFrame(X_tfidf, index=titles)"
   ]
  },
  {
   "cell_type": "code",
   "execution_count": 110,
   "metadata": {},
   "outputs": [],
   "source": [
    "budgets['Title_fixed'] = budgets['Movie-Title'].str.replace('[\\:]', '_').str.rstrip('_')\n",
    "budgets.set_index('Title_fixed', inplace=True)"
   ]
  },
  {
   "cell_type": "code",
   "execution_count": 111,
   "metadata": {},
   "outputs": [
    {
     "name": "stdout",
     "output_type": "stream",
     "text": [
      "Title_fixed\n",
      "10_Things_I_Hate_About_You     30,000,000\n",
      "12                              5,000,000\n",
      "12_and_Holding                    400,000\n",
      "12_Monkeys                     29,000,000\n",
      "12_Years_a_Slave               20,000,000\n",
      "                                 ...     \n",
      "You've_Got_Mail                65,000,000\n",
      "Youth_in_Revolt                18,000,000\n",
      "Zero_Dark_Thirty               40,000,000\n",
      "Zerophilia                        325,000\n",
      "Zootopia                      150,000,000\n",
      "Name: Budget, Length: 1084, dtype: object\n",
      "                                   0         1         2         3         4  \\\n",
      "10_Things_I_Hate_About_You -1.089018 -0.234329  0.766038 -0.565162  0.626483   \n",
      "12                         -1.211914 -0.684930 -0.504064  0.088482 -0.288294   \n",
      "127_Hours                  -0.530778  0.150559 -0.535042 -0.558690 -0.288294   \n",
      "12_Monkeys                 -0.251659  0.540811 -0.471149 -0.183330 -0.059600   \n",
      "12_Years_a_Slave            1.606362  0.499238  2.237496 -0.358067 -0.288294   \n",
      "...                              ...       ...       ...       ...       ...   \n",
      "Zero_Dark_Thirty           -0.566189 -0.486451 -0.368534 -0.150972  0.054747   \n",
      "Zerophilia                 -1.066105 -0.890114  1.093244  0.247039 -0.173947   \n",
      "Zootopia                    0.629443 -0.957168 -0.165241 -0.523096 -0.288294   \n",
      "eXistenZ                   -1.145258 -0.942416 -0.566020 -0.487501 -0.288294   \n",
      "xXx                         0.521128 -0.640674  0.880269 -0.419548  0.169095   \n",
      "\n",
      "                                   5         6         7         8         9  \\\n",
      "10_Things_I_Hate_About_You -0.335910 -0.620005 -1.105685 -0.665193  1.274108   \n",
      "12                         -0.299881  0.332189 -0.356905  0.262935 -0.938995   \n",
      "127_Hours                  -0.261278 -0.672613  0.064284 -0.828727 -1.626168   \n",
      "12_Monkeys                 -0.320469  0.226974  1.842635 -0.606378 -0.812676   \n",
      "12_Years_a_Slave           -0.001351 -0.588441 -0.450503 -0.130121  0.986101   \n",
      "...                              ...       ...       ...       ...       ...   \n",
      "Zero_Dark_Thirty           -0.328190 -0.209668  1.421447 -0.003884  0.089239   \n",
      "Zerophilia                 -0.341057 -0.604223 -0.778094 -0.834465 -0.490564   \n",
      "Zootopia                   -0.235543  1.063431 -0.076113  1.661581 -0.661094   \n",
      "eXistenZ                   -0.343631 -0.141278 -0.076113  1.067694 -0.374351   \n",
      "xXx                         3.521818  0.437403 -0.169710 -0.860286 -1.122157   \n",
      "\n",
      "                                  10        11        12        13        14  \\\n",
      "10_Things_I_Hate_About_You -0.756261 -0.659928 -0.714722 -0.117979 -0.162831   \n",
      "12                         -0.697521 -0.650438 -0.350556 -0.117979  0.134677   \n",
      "127_Hours                  -0.036159 -0.422677  1.240819 -0.099992 -0.114148   \n",
      "12_Monkeys                  2.746348 -0.552374  2.142351 -0.108985  0.010265   \n",
      "12_Years_a_Slave           -0.760612  2.060549 -0.747289 -0.126973 -0.162831   \n",
      "...                              ...       ...       ...       ...       ...   \n",
      "Zero_Dark_Thirty           -0.623553 -0.596661  1.815194 -0.126973 -0.162831   \n",
      "Zerophilia                 -0.812825  0.475713 -0.926411 -0.126973 -0.162831   \n",
      "Zootopia                   -0.738857 -0.637785 -0.858315 -0.073011 -0.162831   \n",
      "eXistenZ                   -0.171042 -0.447984 -0.286901 -0.126973 -0.162831   \n",
      "xXx                        -0.682293 -0.330940 -0.850914 -0.108985 -0.162831   \n",
      "\n",
      "                                  15        16        17  \n",
      "10_Things_I_Hate_About_You -0.269629 -0.117691 -0.120455  \n",
      "12                         -0.262833 -0.117691 -0.120455  \n",
      "127_Hours                  -0.269629 -0.110045 -0.120455  \n",
      "12_Monkeys                 -0.269629 -0.117691 -0.120455  \n",
      "12_Years_a_Slave           -0.222055 -0.117691 -0.120455  \n",
      "...                              ...       ...       ...  \n",
      "Zero_Dark_Thirty           -0.249240 -0.117691  0.123022  \n",
      "Zerophilia                 -0.269629 -0.117691 -0.120455  \n",
      "Zootopia                   -0.147294 -0.117691 -0.068281  \n",
      "eXistenZ                   -0.256036 -0.117691 -0.120455  \n",
      "xXx                        -0.269629 -0.117691 -0.120455  \n",
      "\n",
      "[1084 rows x 18 columns]\n"
     ]
    }
   ],
   "source": [
    "print(budgets['Budget'])\n",
    "print(X_ner_pd)"
   ]
  },
  {
   "cell_type": "code",
   "execution_count": 112,
   "metadata": {},
   "outputs": [],
   "source": []
  },
  {
   "cell_type": "code",
   "execution_count": 176,
   "metadata": {},
   "outputs": [],
   "source": [
    "X_ner_pd['Budget'] = budgets['Budget']\n",
    "X_w2v_pd['Budget'] = budgets['Budget']\n",
    "X_tfidf_pd['Budget'] = budgets['Budget']\n",
    "\n",
    "X_ner_pd['Budget'] = pd.qcut(X_ner_pd['Budget'].str.replace(',', '').astype('float'), 2, labels=['low', 'high'])\n",
    "X_w2v_pd['Budget'] = pd.qcut(X_w2v_pd['Budget'].str.replace(',', '').astype('float'), 2, labels=['low', 'high'])\n",
    "X_tfidf_pd['Budget'] = pd.qcut(X_tfidf_pd['Budget'].str.replace(',', '').astype('float'), 2, labels=['low', 'high'])"
   ]
  },
  {
   "cell_type": "code",
   "execution_count": 122,
   "metadata": {},
   "outputs": [
    {
     "data": {
      "text/html": [
       "<div>\n",
       "<style scoped>\n",
       "    .dataframe tbody tr th:only-of-type {\n",
       "        vertical-align: middle;\n",
       "    }\n",
       "\n",
       "    .dataframe tbody tr th {\n",
       "        vertical-align: top;\n",
       "    }\n",
       "\n",
       "    .dataframe thead th {\n",
       "        text-align: right;\n",
       "    }\n",
       "</style>\n",
       "<table border=\"1\" class=\"dataframe\">\n",
       "  <thead>\n",
       "    <tr style=\"text-align: right;\">\n",
       "      <th></th>\n",
       "      <th>0</th>\n",
       "      <th>1</th>\n",
       "      <th>2</th>\n",
       "      <th>3</th>\n",
       "      <th>4</th>\n",
       "      <th>5</th>\n",
       "      <th>6</th>\n",
       "      <th>7</th>\n",
       "      <th>8</th>\n",
       "      <th>9</th>\n",
       "      <th>...</th>\n",
       "      <th>290</th>\n",
       "      <th>291</th>\n",
       "      <th>292</th>\n",
       "      <th>293</th>\n",
       "      <th>294</th>\n",
       "      <th>295</th>\n",
       "      <th>296</th>\n",
       "      <th>297</th>\n",
       "      <th>298</th>\n",
       "      <th>299</th>\n",
       "    </tr>\n",
       "  </thead>\n",
       "  <tbody>\n",
       "    <tr>\n",
       "      <th>10_Things_I_Hate_About_You</th>\n",
       "      <td>0.842147</td>\n",
       "      <td>0.128274</td>\n",
       "      <td>-0.612184</td>\n",
       "      <td>0.216559</td>\n",
       "      <td>-0.948937</td>\n",
       "      <td>1.363040</td>\n",
       "      <td>0.181481</td>\n",
       "      <td>1.610154</td>\n",
       "      <td>-0.295793</td>\n",
       "      <td>0.978330</td>\n",
       "      <td>...</td>\n",
       "      <td>-0.557664</td>\n",
       "      <td>0.160895</td>\n",
       "      <td>0.378660</td>\n",
       "      <td>-1.492968</td>\n",
       "      <td>0.885228</td>\n",
       "      <td>0.875905</td>\n",
       "      <td>-0.184535</td>\n",
       "      <td>-0.483838</td>\n",
       "      <td>0.496968</td>\n",
       "      <td>-0.141394</td>\n",
       "    </tr>\n",
       "    <tr>\n",
       "      <th>12</th>\n",
       "      <td>-0.014232</td>\n",
       "      <td>0.322377</td>\n",
       "      <td>-0.817613</td>\n",
       "      <td>0.170794</td>\n",
       "      <td>2.327757</td>\n",
       "      <td>0.963366</td>\n",
       "      <td>2.742541</td>\n",
       "      <td>-0.536997</td>\n",
       "      <td>1.545606</td>\n",
       "      <td>-0.161760</td>\n",
       "      <td>...</td>\n",
       "      <td>0.779170</td>\n",
       "      <td>0.394381</td>\n",
       "      <td>-1.022944</td>\n",
       "      <td>-0.445496</td>\n",
       "      <td>-0.554899</td>\n",
       "      <td>-0.722570</td>\n",
       "      <td>-0.825712</td>\n",
       "      <td>-0.573542</td>\n",
       "      <td>0.491641</td>\n",
       "      <td>2.121595</td>\n",
       "    </tr>\n",
       "    <tr>\n",
       "      <th>127_Hours</th>\n",
       "      <td>-1.386380</td>\n",
       "      <td>-0.594669</td>\n",
       "      <td>0.700672</td>\n",
       "      <td>1.134125</td>\n",
       "      <td>0.945979</td>\n",
       "      <td>1.065385</td>\n",
       "      <td>-0.497892</td>\n",
       "      <td>-1.245517</td>\n",
       "      <td>1.090233</td>\n",
       "      <td>-2.615434</td>\n",
       "      <td>...</td>\n",
       "      <td>2.561621</td>\n",
       "      <td>-0.592288</td>\n",
       "      <td>-0.187767</td>\n",
       "      <td>0.450739</td>\n",
       "      <td>0.775929</td>\n",
       "      <td>-0.329151</td>\n",
       "      <td>0.345485</td>\n",
       "      <td>-0.550136</td>\n",
       "      <td>-1.451380</td>\n",
       "      <td>0.391357</td>\n",
       "    </tr>\n",
       "    <tr>\n",
       "      <th>12_Monkeys</th>\n",
       "      <td>-0.205257</td>\n",
       "      <td>0.628661</td>\n",
       "      <td>-0.155096</td>\n",
       "      <td>-1.270163</td>\n",
       "      <td>-0.043059</td>\n",
       "      <td>-0.835741</td>\n",
       "      <td>-0.563652</td>\n",
       "      <td>-0.578076</td>\n",
       "      <td>-0.203944</td>\n",
       "      <td>-0.367297</td>\n",
       "      <td>...</td>\n",
       "      <td>-0.844965</td>\n",
       "      <td>-0.358733</td>\n",
       "      <td>-1.131822</td>\n",
       "      <td>-0.022966</td>\n",
       "      <td>-0.318367</td>\n",
       "      <td>-0.140076</td>\n",
       "      <td>-0.112031</td>\n",
       "      <td>-0.214689</td>\n",
       "      <td>-0.552245</td>\n",
       "      <td>0.393307</td>\n",
       "    </tr>\n",
       "    <tr>\n",
       "      <th>12_Years_a_Slave</th>\n",
       "      <td>-0.208633</td>\n",
       "      <td>0.489289</td>\n",
       "      <td>-1.128266</td>\n",
       "      <td>-0.158492</td>\n",
       "      <td>0.413465</td>\n",
       "      <td>-1.602130</td>\n",
       "      <td>0.259545</td>\n",
       "      <td>-1.048405</td>\n",
       "      <td>-1.258195</td>\n",
       "      <td>-0.649959</td>\n",
       "      <td>...</td>\n",
       "      <td>-0.465660</td>\n",
       "      <td>1.555572</td>\n",
       "      <td>1.104952</td>\n",
       "      <td>0.413394</td>\n",
       "      <td>-0.770204</td>\n",
       "      <td>0.260212</td>\n",
       "      <td>-0.488328</td>\n",
       "      <td>-0.149481</td>\n",
       "      <td>0.891459</td>\n",
       "      <td>-1.581208</td>\n",
       "    </tr>\n",
       "  </tbody>\n",
       "</table>\n",
       "<p>5 rows × 300 columns</p>\n",
       "</div>"
      ],
      "text/plain": [
       "                                 0         1         2         3         4    \\\n",
       "10_Things_I_Hate_About_You  0.842147  0.128274 -0.612184  0.216559 -0.948937   \n",
       "12                         -0.014232  0.322377 -0.817613  0.170794  2.327757   \n",
       "127_Hours                  -1.386380 -0.594669  0.700672  1.134125  0.945979   \n",
       "12_Monkeys                 -0.205257  0.628661 -0.155096 -1.270163 -0.043059   \n",
       "12_Years_a_Slave           -0.208633  0.489289 -1.128266 -0.158492  0.413465   \n",
       "\n",
       "                                 5         6         7         8         9    \\\n",
       "10_Things_I_Hate_About_You  1.363040  0.181481  1.610154 -0.295793  0.978330   \n",
       "12                          0.963366  2.742541 -0.536997  1.545606 -0.161760   \n",
       "127_Hours                   1.065385 -0.497892 -1.245517  1.090233 -2.615434   \n",
       "12_Monkeys                 -0.835741 -0.563652 -0.578076 -0.203944 -0.367297   \n",
       "12_Years_a_Slave           -1.602130  0.259545 -1.048405 -1.258195 -0.649959   \n",
       "\n",
       "                            ...       290       291       292       293  \\\n",
       "10_Things_I_Hate_About_You  ... -0.557664  0.160895  0.378660 -1.492968   \n",
       "12                          ...  0.779170  0.394381 -1.022944 -0.445496   \n",
       "127_Hours                   ...  2.561621 -0.592288 -0.187767  0.450739   \n",
       "12_Monkeys                  ... -0.844965 -0.358733 -1.131822 -0.022966   \n",
       "12_Years_a_Slave            ... -0.465660  1.555572  1.104952  0.413394   \n",
       "\n",
       "                                 294       295       296       297       298  \\\n",
       "10_Things_I_Hate_About_You  0.885228  0.875905 -0.184535 -0.483838  0.496968   \n",
       "12                         -0.554899 -0.722570 -0.825712 -0.573542  0.491641   \n",
       "127_Hours                   0.775929 -0.329151  0.345485 -0.550136 -1.451380   \n",
       "12_Monkeys                 -0.318367 -0.140076 -0.112031 -0.214689 -0.552245   \n",
       "12_Years_a_Slave           -0.770204  0.260212 -0.488328 -0.149481  0.891459   \n",
       "\n",
       "                                 299  \n",
       "10_Things_I_Hate_About_You -0.141394  \n",
       "12                          2.121595  \n",
       "127_Hours                   0.391357  \n",
       "12_Monkeys                  0.393307  \n",
       "12_Years_a_Slave           -1.581208  \n",
       "\n",
       "[5 rows x 300 columns]"
      ]
     },
     "execution_count": 122,
     "metadata": {},
     "output_type": "execute_result"
    }
   ],
   "source": [
    "X_w2v_pd.iloc[:, :-1].head()"
   ]
  },
  {
   "cell_type": "code",
   "execution_count": 155,
   "metadata": {},
   "outputs": [
    {
     "name": "stdout",
     "output_type": "stream",
     "text": [
      "LogisticRegression(max_iter=1000, random_state=0)\n",
      "Best parameters set found on development set:\n",
      "\n",
      "{'C': 0.01}\n",
      "\n",
      "Grid scores on development set:\n",
      "\n",
      "0.723 (+/-0.023) for {'C': 0.01}\n",
      "0.720 (+/-0.015) for {'C': 0.1}\n",
      "0.713 (+/-0.023) for {'C': 1.0}\n",
      "0.710 (+/-0.035) for {'C': 10.0}\n",
      "0.707 (+/-0.033) for {'C': 100.0}\n",
      "0.707 (+/-0.031) for {'C': 1000.0}\n",
      "0.714 (+/-0.023) for {'C': 10000.0}\n",
      "0.717 (+/-0.017) for {'C': 100000.0}\n",
      "0.717 (+/-0.017) for {'C': 1000000.0}\n",
      "0.719 (+/-0.014) for {'C': 10000000.0}\n",
      "\n",
      "Detailed classification report:\n",
      "Accuracy Score: \n",
      "\n",
      "0.7096774193548387\n",
      "F1 Score: \n",
      "\n",
      "0.7080904490423419\n",
      "              precision    recall  f1-score   support\n",
      "\n",
      "        high       0.73      0.65      0.69       106\n",
      "         low       0.70      0.77      0.73       111\n",
      "\n",
      "    accuracy                           0.71       217\n",
      "   macro avg       0.71      0.71      0.71       217\n",
      "weighted avg       0.71      0.71      0.71       217\n",
      "\n"
     ]
    },
    {
     "data": {
      "image/png": "[encoded data removed]",
      "text/plain": [
       "<Figure size 432x288 with 1 Axes>"
      ]
     },
     "metadata": {
      "needs_background": "light"
     },
     "output_type": "display_data"
    },
    {
     "name": "stdout",
     "output_type": "stream",
     "text": [
      "GradientBoostingClassifier(n_estimators=50, random_state=0)\n"
     ]
    },
    {
     "name": "stderr",
     "output_type": "stream",
     "text": [
      "\n",
      "KeyboardInterrupt\n",
      "\n"
     ]
    }
   ],
   "source": [
    "from sklearn.linear_model import LogisticRegression\n",
    "from sklearn.metrics import plot_roc_curve, accuracy_score, f1_score\n",
    "from sklearn.model_selection import train_test_split\n",
    "from sklearn.svm import SVC\n",
    "\n",
    "run_classification_models(X_tfidf_pd.iloc[:, :-1], X_tfidf_pd['Budget'])\n",
    "run_classification_models(X_ner_pd.iloc[:, :-1], X_ner_pd['Budget'])\n",
    "run_classification_models(X_w2v_pd.iloc[:, :-1], X_w2v_pd['Budget'])"
   ]
  },
  {
   "cell_type": "code",
   "execution_count": 152,
   "metadata": {},
   "outputs": [
    {
     "name": "stdout",
     "output_type": "stream",
     "text": [
      "(1084, 4544) (1084, 4826) (1084, 319) (1084, 4844)\n"
     ]
    }
   ],
   "source": [
    "# create ensemble of features\n",
    "bow_ner = X_tfidf_pd.iloc[:, :-1].join(X_ner_pd, rsuffix = '_NER')\n",
    "bow_w2v = X_tfidf_pd.iloc[:, :-1].join(X_w2v_pd, rsuffix = '_W2V')\n",
    "w2v_ner = X_w2v_pd.iloc[:, :-1].join(X_ner_pd, rsuffix = '_NER')\n",
    "bow_ner_w2v = bow_w2v.iloc[:, :-1].join(X_ner_pd, rsuffix = '_NER')\n",
    "print(bow_ner.shape, bow_w2v.shape, w2v_ner.shape, bow_ner_w2v.shape)"
   ]
  },
  {
   "cell_type": "code",
   "execution_count": null,
   "metadata": {},
   "outputs": [],
   "source": [
    "run_classification_models(bow_ner.iloc[:, :-1], bow_ner['Budget'])\n",
    "run_classification_models(bow_w2v.iloc[:, :-1], bow_w2v['Budget'])\n",
    "run_classification_models(w2v_ner.iloc[:, :-1], w2v_ner['Budget'])\n",
    "run_classification_models(bow_ner_w2v.iloc[:, :-1], bow_ner_w2v['Budget'])"
   ]
  },
  {
   "cell_type": "code",
   "execution_count": 231,
   "metadata": {},
   "outputs": [
    {
     "name": "stdout",
     "output_type": "stream",
     "text": [
      "Detailed classification report:\n",
      "Accuracy Score: \n",
      "\n",
      "0.7004608294930875\n",
      "F1 Score: \n",
      "\n",
      "0.6983855447450016\n",
      "              precision    recall  f1-score   support\n",
      "\n",
      "        high       0.72      0.63      0.67       106\n",
      "         low       0.69      0.77      0.72       111\n",
      "\n",
      "    accuracy                           0.70       217\n",
      "   macro avg       0.70      0.70      0.70       217\n",
      "weighted avg       0.70      0.70      0.70       217\n",
      "\n"
     ]
    },
    {
     "data": {
      "image/png": "[encoded data removed]",
      "text/plain": [
       "<Figure size 432x288 with 1 Axes>"
      ]
     },
     "metadata": {
      "needs_background": "light"
     },
     "output_type": "display_data"
    }
   ],
   "source": [
    "import matplotlib.pyplot as plt\n",
    "\n",
    "X_train, X_test, y_train, y_test = train_test_split(bow_ner.iloc[:, :-1], bow_ner['Budget'], test_size=0.2, random_state=0)\n",
    "\n",
    "clf = LogisticRegression(random_state=0, max_iter = 1000, C = 0.1)\n",
    "clf.fit(X_train, y_train)\n",
    "preds = clf.predict(X_test)\n",
    "\n",
    "print(\"Detailed classification report:\")\n",
    "y_true, y_pred = y_test, clf.predict(X_test)\n",
    "\n",
    "print(\"Accuracy Score: \\n\")\n",
    "print(accuracy_score(y_test, y_pred))\n",
    "\n",
    "print(\"F1 Score: \\n\")\n",
    "print(f1_score(y_true, y_pred, average = 'macro'))\n",
    "print(classification_report(y_true, y_pred))\n",
    "\n",
    "fig, ax = plt.subplots()\n",
    "plot_roc_curve(clf, X_test, y_test, ax = ax)\n",
    "plt.savefig('AUC.png')\n",
    "plt.show()"
   ]
  },
  {
   "cell_type": "code",
   "execution_count": 222,
   "metadata": {},
   "outputs": [
    {
     "data": {
      "text/plain": [
       "(1, 4543)"
      ]
     },
     "execution_count": 222,
     "metadata": {},
     "output_type": "execute_result"
    }
   ],
   "source": [
    "clf.coef_.shape"
   ]
  },
  {
   "cell_type": "code",
   "execution_count": null,
   "metadata": {},
   "outputs": [],
   "source": []
  }
 ],
 "metadata": {
  "kernelspec": {
   "display_name": "Python 3",
   "language": "python",
   "name": "python3"
  },
  "language_info": {
   "codemirror_mode": {
    "name": "ipython",
    "version": 3
   },
   "file_extension": ".py",
   "mimetype": "text/x-python",
   "name": "python",
   "nbconvert_exporter": "python",
   "pygments_lexer": "ipython3",
   "version": "3.7.6"
  }
 },
 "nbformat": 4,
 "nbformat_minor": 4
}
