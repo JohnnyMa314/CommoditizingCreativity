{
 "cells": [
  {
   "cell_type": "code",
   "execution_count": 4,
   "metadata": {},
   "outputs": [
    {
     "data": {
      "text/plain": [
       "gensim.models.word2vec.Word2Vec"
      ]
     },
     "execution_count": 4,
     "metadata": {},
     "output_type": "execute_result"
    }
   ],
   "source": [
    "import gensim\n",
    "import pickle\n",
    "\n",
    "with open(r'models/word2vec.pkl', 'rb') as f:\n",
    "    model = pickle.load(f)\n",
    "type(model)\n"
   ]
  },
  {
   "cell_type": "code",
   "execution_count": 31,
   "metadata": {},
   "outputs": [
    {
     "data": {
      "text/plain": [
       "[('stage', 0.6149373650550842),\n",
       " ('join', 0.5653342604637146),\n",
       " ('group', 0.517249345779419),\n",
       " ('ladies', 0.5047048330307007),\n",
       " ('band', 0.5009245872497559),\n",
       " ('dancing', 0.4824773669242859),\n",
       " ('people', 0.4644733667373657),\n",
       " ('everybody', 0.4328015446662903),\n",
       " ('fight', 0.43260592222213745),\n",
       " ('platform', 0.41809916496276855)]"
      ]
     },
     "execution_count": 31,
     "metadata": {},
     "output_type": "execute_result"
    }
   ],
   "source": [
    "model.wv.most_similar('crowd')"
   ]
  },
  {
   "cell_type": "code",
   "execution_count": 29,
   "metadata": {},
   "outputs": [
    {
     "data": {
      "text/plain": [
       "(100,)"
      ]
     },
     "execution_count": 29,
     "metadata": {},
     "output_type": "execute_result"
    }
   ],
   "source": [
    "model.wv['crowd']"
   ]
  },
  {
   "cell_type": "code",
   "execution_count": 33,
   "metadata": {},
   "outputs": [
    {
     "data": {
      "text/plain": [
       "dict_keys(['', 'things', 'hate', '12', 'high', 'school', 'day', 'crowd', 'sleep', 'eyes', 'head', 'building', 'parking', 'lot', 'pretty', 'trying', 'hard', 'dress', 'glasses', 'coffee', 'baby', 'blue', 'young', 'help', 'sees', 'board', 'hit', 'hey', 'sorry', 'fear', 'leave', 'continuing', 'said', 'grabs', 'car', 'throat', 'lets', 'students', 'slams', 'open', 'door', 'int', 'room', 'beautiful', 'stands', 'facing', 'mirror', 'friend', 'change', 'hair', 'wanna', 'think', 'enter', 'hallway', 'boys', 'girls', 'boy', 'girl', 'continue', 'remains', 'smiles', 'office', 'cut', 'easy', 'going', 'face', 'sits', 'miss', \"i'm\", 'sure', \"won't\", 'find', 'different', 'old', 'little', 'mother', 'plastic', 'smile', 'leaves', 'chair', \"don't\", \"i've\", 'got', 'rises', 'makes', 'eye', 'contact', 'patrick', 'looking', 'bad', 'ass', 'waits', 'outside', 'let', 'know', 'cool', 'looks', \"we're\", 'making', 'gives', 'glance', 'says', 'group', 'eating', 'teeth', 'michael', 'end', 'game', 'new', 'guy', 'tell', \"c'mon\", 'supposed', 'actually', 'people', 'live', 'yeah', 'couple', 'thirty', 'thousand', 'wall', 'points', \"we've\", 'talk', 'pass', 'wearing', 'big', 'guys', 'walk', 'seen', 'right', 'kids', 'sudden', 'ext', 'continues', 'white', \"they're\", 'black', 'watch', 'mean', 'waves', 'brother', 'turns', 'follow', 'loud', 'music', 'future', \"i'll\", 'table', 'shirt', 'stops', 'listening', 'walks', 'perfect', 'passes', 'look', 'start', \"doesn't\", 'matter', \"she's\", 'date', 'sister', \"that's\", 'english', 'class', 'step', 'away', 'teacher', 'tries', 'remember', 'talking', 'mrs', 'oh', 'yes', 'guess', 'man', 'saw', 'slowly', 'speaks', \"didn't\", 'read', 'book', 'exactly', 'roll', 'great', 'fun', 'row', 'self', 'friends', 'mr', 'gets', 'thinks', \"he's\", 'time', 'box', 'seat', 'expression', \"you've\", 'action', 'year', 'way', 'went', 'case', \"you're\", 'point', 'believe', 'bitch', 'want', 'work', 'thank', 'note', 's', 'realize', 'bit', 'best', 'opens', 'reads', 'insert', 'hi', 'hall', 'god', 'care', 'far', 'shakes', 'like', 'raises', 'hand', 'uh', 'play', 'plays', \"haven't\", 'stunned', 'answer', 'goes', 'sit', 'quiet', 'corner', 'idea', 'fact', 'cutting', 'gym', 't', 'hear', 'ask', 'attention', 'staring', \"who's\", 'gone', 'heard', 'completely', 'e', 'slow', 'die', \"what's\", 'stares', 'men', 'fine', 'normal', 'past', 'world', 'need', 'minute', 'okay', 'kill', 'gonna', 'good', 'ladies', 'watching', 'angle', 'bench', 'pool', 'shit', 'wish', 'number', 'stuff', 'coming', 'rings', 'stand', 'rise', 'catch', 'inside', 'french', \"i'd\", 'chance', 'watches', 'pulls', 'reading', 'break', 'running', 'rest', 'bus', 'ride', \"can't\", 'fast', 'reaches', 'puts', 'tape', 'sounds', 'rock', 'pull', 'yelling', 'angry', 'rushes', 'stop', 'leaving', 'years', 'truck', 'house', 'computer', 'quickly', 'holds', 'shoulder', 'walter', 'type', 'enters', 'carrying', 'bag', 'hope', 'ready', 'minutes', 'kiss', 'cheek', 'cry', \"it's\", 'kisses', 'hello', 'heads', 'stairs', 'country', 'thought', 'question', 'stay', 'home', 'upset', \"there's\", 'starts', 'night', 'small', 'hits', 'pain', 'sound', 'jesus', 'women', 'arrives', 'having', \"we'd\", 'try', 'forget', 'thing', 'fingers', 'started', 'touches', 'arm', 'stupid', 'picks', 'grins', 'falls', 'love', 'lab', 'instead', 'confused', \"he'll\", 'lit', 'state', 'fire', 'buy', 'plan', \"you'd\", 'set', 'list', 'gotta', 'street', 'heart', 'kid', 'hang', 'maybe', 'ahead', 'nods', 'approaches', 'response', 'direction', 'later', 'shaking', 'lost', 'came', 'run', 'conversation', 'job', 'throws', 'feet', 'sink', 'calling', 'shots', 'busy', 'known', 'bathroom', 'food', 'pick', 'huge', 'moment', 'death', 'mind', 'counter', 'place', 'leans', 'told', 'takes', 'understand', 'week', 'feeling', 'life', 'driving', \"aren't\", 'slightly', 'fuck', 'title', 'trevor', 'closes', 'figure', 'thinking', 'free', 'nice', 'shuts', 'light', 'sign', 'shoves', 'approach', 'aside', 'follows', 'line', 'ball', 'legs', 'money', 'pay', \"isn't\", 'field', 'nearby', 'mouth', 'blows', 'obviously', 'steps', 'closer', 'backs', 'standing', 'appears', 'getting', 'took', 'pushes', 'locker', 'smiling', \"you'll\", 'track', 'come', 'flat', 'beer', 'covered', 'shut', 'emerges', 'store', 'hands', 'finds', 'keys', 'sitting', 'rear', 'forward', 'couch', 'cover', 'trust', 'expect', 'control', 'image', 'turning', 'better', 'runs', 'la', 'word', 'sweet', 'deep', 'use', 'surprised', 'hell', 'wanted', 'situation', 'major', 'wants', 'cash', 'picture', 'means', \"we'll\", 'swings', 'exits', 'party', 'wide', 'calls', 'showing', 'beat', 'nose', 'found', 'kind', 'ones', 'knows', 'bar', 'hears', 'information', 'dead', 'telling', 'met', 'silence', \"wasn't\", 'club', 'playing', 'tomorrow', 'band', 'lips', 'dance', 'turn', 'study', \"let's\", 'happy', 'nervously', 'moves', 'chest', 'pocket', 'bottle', 'ring', 'body', 'short', 'happened', 'laughs', 'near', 'stage', 'song', 'lead', 'sweat', 'opening', 'spots', 'singing', 'pov', 'dancing', 'waiting', 'water', 'huh', 'excuse', 'surrounded', 'ear', 'flash', 'saying', 'walking', 'window', 'glances', 'true', 'wear', 'lights', 'yard', 'living', 'kitchen', 'jumps', 'knew', 'comes', 'weight', 'early', 'lines', 'doorway', 'tonight', 'wait', 'rush', '1', 'keeps', 'drink', 'funny', 'dirt', 'neck', 'evening', 'surprise', 'returns', 'complete', \"'\", 'shot', 'escape', 'dr', 'dry', 'rolls', 'holding', 'knock', 'breaks', 'dining', 'deal', 'act', 'human', 'lie', 'floor', 'struggles', 'words', 'taking', 'needs', 'wake', 'damn', 'slide', 'catches', 'drives', 'radio', 'changes', 'listen', 'voice', 'driveway', 'faces', 'finally', 'looked', 'draws', 'desk', 'shoot', 'late', 'view', 'person', 'air', 'close', 'flies', 'missing', 'background', 'section', 'woman', 'soft', 'morning', 'laugh', 'quietly', 'knowing', 'key', 'second', 'large', 'tree', 'panic', 'jump', 'seeing', 'left', 'foot', 'family', 'gun', 'red', 'green', 'mom', 'strange', 'real', 'hot', 'company', 'half', 'pants', 'story', 'join', 'happens', \"they'll\", 'lies', 'bed', 'tv', 'asked', 'breath', 'display', 'hold', 'dark', 'phone', 'feel', 'honey', 'hotel', 'long', 'meet', 'worse', 'sleeping', 'wrapped', 'dream', 'spins', '10', 'west', 'rain', 'river', 'mess', 'children', 'landing', 'passing', 'camera', 'city', 'tony', 'flashes', 'v', 'o', 'interior', 'listens', 'frame', 'road', 'telephone', 'middle', 'distance', 'sun', 'park', 'doors', 'probably', 'suddenly', 'bedroom', 'machine', 'message', 'apartment', 'moon', 'station', 'wind', 'elevator', 'everybody', 'screen', 'leads', '2', 'd', 'shop', '8', '3', '4', 'child', 'officer', 'map', 'hours', 'massive', 'silent', 'times', 'single', 'series', 'course', 'card', 'dust', 'sky', 'edge', 'miles', 'pack', '15', 'darkness', 'yellow', 'pulling', 'bike', 'kicks', 'john', 'area', 'turned', 'spot', 'movie', 'land', 'final', 'tried', '5', 'thick', 'sense', 'clearly', 'screaming', 'speed', 'u', '6', '30', 'yards', \"cont'd\", 'slides', 'shake', 'straight', '20', '17', 'crazy', 'today', 'climb', 'tiny', 'moving', 'fall', 'crack', '9', 'beneath', 'video', 'shows', '11', 'clear', 'round', 'drop', \"it'll\", 'cold', 'arms', 'walls', 'c', 'giant', 'begin', 'strong', 'begins', 'reach', 'drops', 'size', 'tight', 'drinks', 'force', 'inches', 'ground', 'falling', 'cross', 'pulled', 'seconds', 'tears', 'skin', 'pushing', 'simple', 'knees', 'burst', 'blood', 'check', 'working', 'finger', 'barely', 'fucking', 'surface', 'rope', 'stick', 'pause', 'knife', 'hole', 'explodes', 'leg', '24', 'broken', 'lifts', 'gently', 'file', 'mark', 'dawn', 'x', 'hour', 'happening', 'screams', 'noise', 'breathing', '70', 'focus', 'dad', 'days', 'immediately', 'hospital', 'airport', 'cole', 'p', 'system', 'flight', 'parents', 'son', 'reaching', 'awake', 'corridor', 'locked', 'trouble', 'space', 'suit', 'chamber', 'lock', 'heavy', 'wheel', 'drawn', 'flashlight', 'moments', 'alive', 'bear', 'startled', 'eyed', 'traffic', 'windows', 'carefully', 'ago', 'naked', 'cars', 'seated', 'james', 'doctor', 'hurt', 'sir', 'exchange', 'exit', 'important', 'photo', 'pictures', 'glass', 'hurries', \"man's\", 'security', 'taken', 'earth', 'dressed', 'police', 'detective', 'totally', 'cell', 'gave', 'explain', 'studies', \"wouldn't\", 'van', 'revealing', 'clothes', 'stare', 'jeffrey', 'dollars', 'calm', 'nurse', \"couldn't\", 'ha', 'called', 'certain', 'speaking', 'sent', 'wrong', 'army', 'save', 'present', 'quick', 'given', 'scream', 'speak', 'checks', \"'em\", 'cont', 'father', 'writing', 'news', 'business', 'following', 'notice', 'freezes', 'hesitates', 'ray', 'cop', 'bob', 'gas', 'war', 'narrow', 'captain', 'drive', 'entrance', 'pointing', 'afternoon', 'parked', 'loose', 'papers', 'alley', 'keeping', 'pistol', 'snaps', 'woods', 'agent', 'agents', 'metal', 'pilot', 'pen', 'forth', 'clerk', '44', 'fade', 'pair', 'piece', 'thanks', 'anne', 'wife', 'continued', 'sight', 'husband', 'master', 'passed', 'henry', 'poor', 'eat', 'places', 'brings', 'scene', 'brown', '25', 'able', 'return', 'write', 'letter', 'paper', 'mid', '16', 'giving', 'nearly', '19', 'filled', '23', 'brought', 'bring', 'crosses', 'chain', 'fight', 'promise', \"ain't\", 'carries', 'blow', 'cause', '28', 'moved', 'age', 'clean', '32', '33', '35', '45', '52', '58', '59', 'picking', '60', '65', '75', '79', '80', '84', '90', '91', 'pounds', 'uncle', '96', '100', 'low', 'judge', 'jacob', 'continuous', 'removes', 'leonard', 'dinner', 'grace', 'center', 'jim', 'crying', 'entire', 'alarm', 'reveal', 'weeks', 'died', 'killed', 'coach', 'fat', 'basement', 'dusk', 'mike', 'shoots', 'team', 'court', 'ed', 'nervous', '36', 'climbs', 'alex', 'leaps', 'wonder', 'ice', 'rev', '7', 'wears', 'path', 'omitted', 'main', 'notices', 'g', 'sets', 'laughter', 'l', '39', 'gaze', 'clock', '38', 'garage', 'jack', '53', 'million', 'monitor', 'ship', '14', 'base', 'mission', 'bay', 'frank', '13', 'american', 'president', 'laura', 'jackson', 'kate', 'gordon', 'deck', 'tunnel', 'charlie', 'tower', 'dog', 'plane', 'wave', 'gate', 'bridge', 'r', 'n', 'y', 'coat', 'm', 'h', 'b', 'f', 'mary', 'seven', 'snow', 'female', 'hannah', 'cab', 'bell', 'highway', 'town', 'mask', 'bank', 'bomb', 'pink', 'plate', 'rachel', 'win', 'uniform', 'smith', 'manager', 'throw', 'ya', 'alright', \"fuckin'\", 'billy', 'guard', 'elaine', 'bullshit', 'lobby', 'goddamn', 'adam', 'seth', 'art', 'ross', 'summer', 'tom', 'paul', 'ok', 'welles', 'till', 'film', 'director', 'montage', 'max', 'eddie', 'cat', 'beast', 'staff', 'lawyer', 'private', 'lieutenant', 'sam', 'colonel', 'order', 'stone', 'oil', 'driver', 'anna', 'andrew', 'bill', 'arthur', 'prison', 'guards', 'sand', 'hearing', 'evelyn', 'marcus', 'lee', 'creature', 'jerry', 'charles', 'fred', 'barris', 'medical', 'danny', 'larry', 'don', '29', '87', 'law', 'church', 'power', 'ace', 'secretary', 'wade', 'pop', 'shooting', 'script', 'matt', 'martha', 'general', 'secret', 'service', 'cabin', 'rose', 'passenger', 'simon', 'ted', 'lamp', 'ali', 'king', 'george', 'alien', 'ripley', 'st', 'anthony', 'platform', 'york', 'de', 'eve', 'theater', 'karen', 'steve', 'willie', 'dissolve', 'lucy', 'william', 'dick', 'jane', 'richie', 'terry', 'joe', 'carol', 'debbie', 'derek', 'med', 'helen', 'east', 'kevin', 'j', 'jean', 'drew', 'chris', '18', 'harvey', 'david', 'lisa', 'jenny', 'ben', 'annie', 'laughing', 'rob', 'sally', 'robert', 'elizabeth', 'gary', 'milo', 'bud', 'fran', 'boat', 'chief', 'kit', 'todd', 'jimmy', 'nick', 'eric', 'harry', 'sharp', 'ash', 'teddy', 'jonathan', 'amy', '21', 'barbara', 'austin', 'evil', 'alan', 'jake', 'iron', 'richard', 'zoe', 'stan', 'brian', 'stephen', 'shadow', 'julie', 'jesse', 'doc', 'cynthia', 'lt', 'catherine', 'bruce', 'kelly', 'butt', 'oliver', 'hector', 'lady', 'lord', 'josh', 'margaret', 'edward', 'dude', 'emily', 'beth', 'melanie', 'mitch', 'ron', 'blade', 'rebecca', 'jason', 'dean', 'cindy', 'peter', 'clyde', 'w', 'bourne', 'fish', 'eggs', 'mason', 'jeff', 'dave', 'aaron', 'crash', 'linda', 'evan', 'cable', 'steven', 'nicky', 'chuck', 'tim', 'ryan', 'cobb', 'miguel', 'vincent', 'sebastian', 'rick', 'phil', 'andy', 'tommy', 'sonny', 'mac', 'joel', 'nathan', 'hazel', 'duke', 'bobby', 'whip', 'forrest', 'victor', 'doyle', 'carter', 'clay', 'walt', 'martin', 'hanna', 'harold', 'storm', 'sidney', 'hiccup', 'indiana', 'indy', 'louis', 'jay', 'le', 'doll', 'logan', 'malcolm', 'bishop', 'ronnie', 'vivian', 'scott', 'pat'])"
      ]
     },
     "execution_count": 33,
     "metadata": {},
     "output_type": "execute_result"
    }
   ],
   "source": [
    "model.wv.vocab.keys()"
   ]
  }
 ],
 "metadata": {
  "kernelspec": {
   "display_name": "Python 3",
   "language": "python",
   "name": "python3"
  },
  "language_info": {
   "codemirror_mode": {
    "name": "ipython",
    "version": 3
   },
   "file_extension": ".py",
   "mimetype": "text/x-python",
   "name": "python",
   "nbconvert_exporter": "python",
   "pygments_lexer": "ipython3",
   "version": "3.7.5"
  }
 },
 "nbformat": 4,
 "nbformat_minor": 4
}
