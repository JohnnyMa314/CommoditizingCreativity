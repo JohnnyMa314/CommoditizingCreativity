{
 "cells": [
  {
   "cell_type": "code",
   "execution_count": 5,
   "metadata": {},
   "outputs": [
    {
     "data": {
      "text/plain": [
       "gensim.models.word2vec.Word2Vec"
      ]
     },
     "execution_count": 5,
     "metadata": {},
     "output_type": "execute_result"
    }
   ],
   "source": [
    "import gensim\n",
    "import pickle\n",
    "\n",
    "with open(r'models/word2vec_2_1147.pkl', 'rb') as f:\n",
    "    model = pickle.load(f)\n",
    "type(model)\n"
   ]
  },
  {
   "cell_type": "code",
   "execution_count": 6,
   "metadata": {},
   "outputs": [
    {
     "data": {
      "text/plain": [
       "(300,)"
      ]
     },
     "execution_count": 6,
     "metadata": {},
     "output_type": "execute_result"
    }
   ],
   "source": [
    "model.wv['crazy'].shape"
   ]
  },
  {
   "cell_type": "code",
   "execution_count": 7,
   "metadata": {},
   "outputs": [
    {
     "data": {
      "text/plain": [
       "98126"
      ]
     },
     "execution_count": 7,
     "metadata": {},
     "output_type": "execute_result"
    }
   ],
   "source": [
    "len(model.wv.vocab.keys())"
   ]
  },
  {
   "cell_type": "code",
   "execution_count": 8,
   "metadata": {},
   "outputs": [
    {
     "data": {
      "text/plain": [
       "[('stoned', 0.5942504405975342),\n",
       " ('tipsy', 0.5761665105819702),\n",
       " ('drunken', 0.5700056552886963),\n",
       " ('begbie', 0.5584929585456848),\n",
       " ('pimp', 0.5577633380889893),\n",
       " ('drinking', 0.550079882144928),\n",
       " ('bum', 0.5401492714881897),\n",
       " ('beer', 0.5391193628311157),\n",
       " ('hooker', 0.5335057973861694),\n",
       " ('nuts', 0.5281122922897339)]"
      ]
     },
     "execution_count": 8,
     "metadata": {},
     "output_type": "execute_result"
    }
   ],
   "source": [
    "model.wv.most_similar('drunk')"
   ]
  },
  {
   "cell_type": "code",
   "execution_count": 9,
   "metadata": {},
   "outputs": [],
   "source": [
    "#from ScriptFeaturizer import scripts_to_tfidf, scripts_to_embeddings\n",
    "from FeatureUtils import tokenize_script, load_scripts\n",
    "from datetime import datetime\n",
    "raw_scripts, titles = load_scripts(r'data/scraping/texts/')\n",
    "docs = [tokenize_script(script, stop_words=True) for script in raw_scripts]"
   ]
  },
  {
   "cell_type": "code",
   "execution_count": 12,
   "metadata": {},
   "outputs": [],
   "source": [
    "import numpy as np\n",
    "\n",
    "def doc_to_vect(doc, model):\n",
    "    \"\"\"Given a list of words that make up a document, use a trained Word2Vec model to make a document vector \n",
    "    as the average of all the available word vectors in the model corpus.\"\"\"\n",
    "    doc_vect = np.zeros(model.vector_size)\n",
    "    count = 0\n",
    "    for word in doc:\n",
    "        try:\n",
    "            word_vect = model.wv[word]\n",
    "            count += 1\n",
    "        except KeyError:\n",
    "            continue\n",
    "        doc_vect += word_vect\n",
    "    doc_vect_avg = doc_vect / count\n",
    "    return doc_vect_avg\n",
    "\n"
   ]
  },
  {
   "cell_type": "code",
   "execution_count": 13,
   "metadata": {},
   "outputs": [
    {
     "data": {
      "text/plain": [
       "(1147, 300)"
      ]
     },
     "execution_count": 13,
     "metadata": {},
     "output_type": "execute_result"
    }
   ],
   "source": [
    "w2v_matrix = np.array([doc_to_vect(doc, model) for doc in docs])\n",
    "w2v_matrix.shape"
   ]
  },
  {
   "cell_type": "code",
   "execution_count": 15,
   "metadata": {},
   "outputs": [],
   "source": [
    "w2v_package = tuple([w2v_matrix, model, titles])"
   ]
  },
  {
   "cell_type": "code",
   "execution_count": 16,
   "metadata": {},
   "outputs": [],
   "source": [
    "import pickle\n",
    "\n",
    "with open(r'data/features/w2v_package.pkl', 'wb') as f:\n",
    "    \"\"\"Contains 1147 by 300 feature matrix, the model used to curate the document matrix, and the titles.\"\"\"\n",
    "    pickle.dump(w2v_package, f)"
   ]
  }
 ],
 "metadata": {
  "kernelspec": {
   "display_name": "Python 3",
   "language": "python",
   "name": "python3"
  },
  "language_info": {
   "codemirror_mode": {
    "name": "ipython",
    "version": 3
   },
   "file_extension": ".py",
   "mimetype": "text/x-python",
   "name": "python",
   "nbconvert_exporter": "python",
   "pygments_lexer": "ipython3",
   "version": "3.7.5"
  }
 },
 "nbformat": 4,
 "nbformat_minor": 4
}
